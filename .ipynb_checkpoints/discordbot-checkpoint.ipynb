{
 "cells": [
  {
   "cell_type": "markdown",
   "metadata": {},
   "source": [
    "# discordbot_test"
   ]
  },
  {
   "cell_type": "code",
   "execution_count": 18,
   "metadata": {},
   "outputs": [],
   "source": [
    "import os # to hide token\n",
    "import discord\n",
    "from discord.ext import commands\n",
    "#client = discord.Client()\n",
    "bot=commands.Bot(command_prefix = '?')\n",
    "TOKEN = os.environ.get(\"DISCORD_TOKEN\")"
   ]
  },
  {
   "cell_type": "code",
   "execution_count": 19,
   "metadata": {},
   "outputs": [],
   "source": [
    "@bot.event\n",
    "async def on_ready():\n",
    "    print('ログインしました')"
   ]
  },
  {
   "cell_type": "code",
   "execution_count": 20,
   "metadata": {},
   "outputs": [],
   "source": [
    "# bot.remove_command(nyan)"
   ]
  },
  {
   "cell_type": "code",
   "execution_count": 21,
   "metadata": {},
   "outputs": [],
   "source": [
    "@bot.command(pass_context=True)\n",
    "async def nyan(ctx):\n",
    "    if ctx.message.channel.id == '536814382705934338':\n",
    "        reply = 'にゃーん＞＜'\n",
    "        await bot.say(reply)"
   ]
  },
  {
   "cell_type": "code",
   "execution_count": 22,
   "metadata": {},
   "outputs": [],
   "source": [
    "@bot.command()\n",
    "async def add(left : int, right :int):\n",
    "    await bot.say(left + right)   "
   ]
  },
  {
   "cell_type": "code",
   "execution_count": 23,
   "metadata": {
    "scrolled": true
   },
   "outputs": [
    {
     "ename": "RuntimeError",
     "evalue": "Cannot close a running event loop",
     "output_type": "error",
     "traceback": [
      "\u001b[0;31m-------------------------------------------------------------------\u001b[0m",
      "\u001b[0;31mRuntimeError\u001b[0m                      Traceback (most recent call last)",
      "\u001b[0;32m~/.pyenv/versions/anaconda3-5.3.1/lib/python3.6/site-packages/discord/client.py\u001b[0m in \u001b[0;36mrun\u001b[0;34m(self, *args, **kwargs)\u001b[0m\n\u001b[1;32m    518\u001b[0m         \u001b[0;32mtry\u001b[0m\u001b[0;34m:\u001b[0m\u001b[0;34m\u001b[0m\u001b[0m\n\u001b[0;32m--> 519\u001b[0;31m             \u001b[0mself\u001b[0m\u001b[0;34m.\u001b[0m\u001b[0mloop\u001b[0m\u001b[0;34m.\u001b[0m\u001b[0mrun_until_complete\u001b[0m\u001b[0;34m(\u001b[0m\u001b[0mself\u001b[0m\u001b[0;34m.\u001b[0m\u001b[0mstart\u001b[0m\u001b[0;34m(\u001b[0m\u001b[0;34m*\u001b[0m\u001b[0margs\u001b[0m\u001b[0;34m,\u001b[0m \u001b[0;34m**\u001b[0m\u001b[0mkwargs\u001b[0m\u001b[0;34m)\u001b[0m\u001b[0;34m)\u001b[0m\u001b[0;34m\u001b[0m\u001b[0m\n\u001b[0m\u001b[1;32m    520\u001b[0m         \u001b[0;32mexcept\u001b[0m \u001b[0mKeyboardInterrupt\u001b[0m\u001b[0;34m:\u001b[0m\u001b[0;34m\u001b[0m\u001b[0m\n",
      "\u001b[0;32m~/.pyenv/versions/anaconda3-5.3.1/lib/python3.6/asyncio/base_events.py\u001b[0m in \u001b[0;36mrun_until_complete\u001b[0;34m(self, future)\u001b[0m\n\u001b[1;32m    454\u001b[0m         \u001b[0;32mtry\u001b[0m\u001b[0;34m:\u001b[0m\u001b[0;34m\u001b[0m\u001b[0m\n\u001b[0;32m--> 455\u001b[0;31m             \u001b[0mself\u001b[0m\u001b[0;34m.\u001b[0m\u001b[0mrun_forever\u001b[0m\u001b[0;34m(\u001b[0m\u001b[0;34m)\u001b[0m\u001b[0;34m\u001b[0m\u001b[0m\n\u001b[0m\u001b[1;32m    456\u001b[0m         \u001b[0;32mexcept\u001b[0m\u001b[0;34m:\u001b[0m\u001b[0;34m\u001b[0m\u001b[0m\n",
      "\u001b[0;32m~/.pyenv/versions/anaconda3-5.3.1/lib/python3.6/asyncio/base_events.py\u001b[0m in \u001b[0;36mrun_forever\u001b[0;34m(self)\u001b[0m\n\u001b[1;32m    408\u001b[0m         \u001b[0;32mif\u001b[0m \u001b[0mself\u001b[0m\u001b[0;34m.\u001b[0m\u001b[0mis_running\u001b[0m\u001b[0;34m(\u001b[0m\u001b[0;34m)\u001b[0m\u001b[0;34m:\u001b[0m\u001b[0;34m\u001b[0m\u001b[0m\n\u001b[0;32m--> 409\u001b[0;31m             \u001b[0;32mraise\u001b[0m \u001b[0mRuntimeError\u001b[0m\u001b[0;34m(\u001b[0m\u001b[0;34m'This event loop is already running'\u001b[0m\u001b[0;34m)\u001b[0m\u001b[0;34m\u001b[0m\u001b[0m\n\u001b[0m\u001b[1;32m    410\u001b[0m         \u001b[0;32mif\u001b[0m \u001b[0mevents\u001b[0m\u001b[0;34m.\u001b[0m\u001b[0m_get_running_loop\u001b[0m\u001b[0;34m(\u001b[0m\u001b[0;34m)\u001b[0m \u001b[0;32mis\u001b[0m \u001b[0;32mnot\u001b[0m \u001b[0;32mNone\u001b[0m\u001b[0;34m:\u001b[0m\u001b[0;34m\u001b[0m\u001b[0m\n",
      "\u001b[0;31mRuntimeError\u001b[0m: This event loop is already running",
      "\nDuring handling of the above exception, another exception occurred:\n",
      "\u001b[0;31mRuntimeError\u001b[0m                      Traceback (most recent call last)",
      "\u001b[0;32m<ipython-input-23-6bd474958376>\u001b[0m in \u001b[0;36m<module>\u001b[0;34m\u001b[0m\n\u001b[1;32m      1\u001b[0m \u001b[0;31m# run bot\u001b[0m\u001b[0;34m\u001b[0m\u001b[0;34m\u001b[0m\u001b[0m\n\u001b[0;32m----> 2\u001b[0;31m \u001b[0mbot\u001b[0m\u001b[0;34m.\u001b[0m\u001b[0mrun\u001b[0m\u001b[0;34m(\u001b[0m\u001b[0mTOKEN\u001b[0m\u001b[0;34m)\u001b[0m\u001b[0;34m\u001b[0m\u001b[0m\n\u001b[0m",
      "\u001b[0;32m~/.pyenv/versions/anaconda3-5.3.1/lib/python3.6/site-packages/discord/client.py\u001b[0m in \u001b[0;36mrun\u001b[0;34m(self, *args, **kwargs)\u001b[0m\n\u001b[1;32m    532\u001b[0m                 \u001b[0;32mpass\u001b[0m\u001b[0;34m\u001b[0m\u001b[0m\n\u001b[1;32m    533\u001b[0m         \u001b[0;32mfinally\u001b[0m\u001b[0;34m:\u001b[0m\u001b[0;34m\u001b[0m\u001b[0m\n\u001b[0;32m--> 534\u001b[0;31m             \u001b[0mself\u001b[0m\u001b[0;34m.\u001b[0m\u001b[0mloop\u001b[0m\u001b[0;34m.\u001b[0m\u001b[0mclose\u001b[0m\u001b[0;34m(\u001b[0m\u001b[0;34m)\u001b[0m\u001b[0;34m\u001b[0m\u001b[0m\n\u001b[0m\u001b[1;32m    535\u001b[0m \u001b[0;34m\u001b[0m\u001b[0m\n\u001b[1;32m    536\u001b[0m         \u001b[0;31m# properties\u001b[0m\u001b[0;34m\u001b[0m\u001b[0;34m\u001b[0m\u001b[0m\n",
      "\u001b[0;32m~/.pyenv/versions/anaconda3-5.3.1/lib/python3.6/asyncio/unix_events.py\u001b[0m in \u001b[0;36mclose\u001b[0;34m(self)\u001b[0m\n\u001b[1;32m     61\u001b[0m \u001b[0;34m\u001b[0m\u001b[0m\n\u001b[1;32m     62\u001b[0m     \u001b[0;32mdef\u001b[0m \u001b[0mclose\u001b[0m\u001b[0;34m(\u001b[0m\u001b[0mself\u001b[0m\u001b[0;34m)\u001b[0m\u001b[0;34m:\u001b[0m\u001b[0;34m\u001b[0m\u001b[0m\n\u001b[0;32m---> 63\u001b[0;31m         \u001b[0msuper\u001b[0m\u001b[0;34m(\u001b[0m\u001b[0;34m)\u001b[0m\u001b[0;34m.\u001b[0m\u001b[0mclose\u001b[0m\u001b[0;34m(\u001b[0m\u001b[0;34m)\u001b[0m\u001b[0;34m\u001b[0m\u001b[0m\n\u001b[0m\u001b[1;32m     64\u001b[0m         \u001b[0;32mif\u001b[0m \u001b[0;32mnot\u001b[0m \u001b[0msys\u001b[0m\u001b[0;34m.\u001b[0m\u001b[0mis_finalizing\u001b[0m\u001b[0;34m(\u001b[0m\u001b[0;34m)\u001b[0m\u001b[0;34m:\u001b[0m\u001b[0;34m\u001b[0m\u001b[0m\n\u001b[1;32m     65\u001b[0m             \u001b[0;32mfor\u001b[0m \u001b[0msig\u001b[0m \u001b[0;32min\u001b[0m \u001b[0mlist\u001b[0m\u001b[0;34m(\u001b[0m\u001b[0mself\u001b[0m\u001b[0;34m.\u001b[0m\u001b[0m_signal_handlers\u001b[0m\u001b[0;34m)\u001b[0m\u001b[0;34m:\u001b[0m\u001b[0;34m\u001b[0m\u001b[0m\n",
      "\u001b[0;32m~/.pyenv/versions/anaconda3-5.3.1/lib/python3.6/asyncio/selector_events.py\u001b[0m in \u001b[0;36mclose\u001b[0;34m(self)\u001b[0m\n\u001b[1;32m    105\u001b[0m     \u001b[0;32mdef\u001b[0m \u001b[0mclose\u001b[0m\u001b[0;34m(\u001b[0m\u001b[0mself\u001b[0m\u001b[0;34m)\u001b[0m\u001b[0;34m:\u001b[0m\u001b[0;34m\u001b[0m\u001b[0m\n\u001b[1;32m    106\u001b[0m         \u001b[0;32mif\u001b[0m \u001b[0mself\u001b[0m\u001b[0;34m.\u001b[0m\u001b[0mis_running\u001b[0m\u001b[0;34m(\u001b[0m\u001b[0;34m)\u001b[0m\u001b[0;34m:\u001b[0m\u001b[0;34m\u001b[0m\u001b[0m\n\u001b[0;32m--> 107\u001b[0;31m             \u001b[0;32mraise\u001b[0m \u001b[0mRuntimeError\u001b[0m\u001b[0;34m(\u001b[0m\u001b[0;34m\"Cannot close a running event loop\"\u001b[0m\u001b[0;34m)\u001b[0m\u001b[0;34m\u001b[0m\u001b[0m\n\u001b[0m\u001b[1;32m    108\u001b[0m         \u001b[0;32mif\u001b[0m \u001b[0mself\u001b[0m\u001b[0;34m.\u001b[0m\u001b[0mis_closed\u001b[0m\u001b[0;34m(\u001b[0m\u001b[0;34m)\u001b[0m\u001b[0;34m:\u001b[0m\u001b[0;34m\u001b[0m\u001b[0m\n\u001b[1;32m    109\u001b[0m             \u001b[0;32mreturn\u001b[0m\u001b[0;34m\u001b[0m\u001b[0m\n",
      "\u001b[0;31mRuntimeError\u001b[0m: Cannot close a running event loop"
     ]
    },
    {
     "name": "stdout",
     "output_type": "stream",
     "text": [
      "ログインしました\n"
     ]
    },
    {
     "name": "stderr",
     "output_type": "stream",
     "text": [
      "Ignoring exception in command nyan\n",
      "Traceback (most recent call last):\n",
      "  File \"/home/haruki0401/.pyenv/versions/anaconda3-5.3.1/lib/python3.6/site-packages/discord/ext/commands/bot.py\", line 846, in process_commands\n",
      "    yield from command.invoke(ctx)\n",
      "  File \"/home/haruki0401/.pyenv/versions/anaconda3-5.3.1/lib/python3.6/site-packages/discord/ext/commands/core.py\", line 367, in invoke\n",
      "    yield from self.prepare(ctx)\n",
      "  File \"/home/haruki0401/.pyenv/versions/anaconda3-5.3.1/lib/python3.6/site-packages/discord/ext/commands/core.py\", line 345, in prepare\n",
      "    yield from self._parse_arguments(ctx)\n",
      "  File \"/home/haruki0401/.pyenv/versions/anaconda3-5.3.1/lib/python3.6/site-packages/discord/ext/commands/core.py\", line 304, in _parse_arguments\n",
      "    transformed = yield from self.transform(ctx, param)\n",
      "  File \"/home/haruki0401/.pyenv/versions/anaconda3-5.3.1/lib/python3.6/site-packages/discord/ext/commands/core.py\", line 212, in transform\n",
      "    raise MissingRequiredArgument('{0.name} is a required argument that is missing.'.format(param))\n",
      "discord.ext.commands.errors.MissingRequiredArgument: ctx is a required argument that is missing.\n",
      "Ignoring exception in command nyan\n",
      "Traceback (most recent call last):\n",
      "  File \"/home/haruki0401/.pyenv/versions/anaconda3-5.3.1/lib/python3.6/site-packages/discord/ext/commands/bot.py\", line 846, in process_commands\n",
      "    yield from command.invoke(ctx)\n",
      "  File \"/home/haruki0401/.pyenv/versions/anaconda3-5.3.1/lib/python3.6/site-packages/discord/ext/commands/core.py\", line 367, in invoke\n",
      "    yield from self.prepare(ctx)\n",
      "  File \"/home/haruki0401/.pyenv/versions/anaconda3-5.3.1/lib/python3.6/site-packages/discord/ext/commands/core.py\", line 345, in prepare\n",
      "    yield from self._parse_arguments(ctx)\n",
      "  File \"/home/haruki0401/.pyenv/versions/anaconda3-5.3.1/lib/python3.6/site-packages/discord/ext/commands/core.py\", line 304, in _parse_arguments\n",
      "    transformed = yield from self.transform(ctx, param)\n",
      "  File \"/home/haruki0401/.pyenv/versions/anaconda3-5.3.1/lib/python3.6/site-packages/discord/ext/commands/core.py\", line 212, in transform\n",
      "    raise MissingRequiredArgument('{0.name} is a required argument that is missing.'.format(param))\n",
      "discord.ext.commands.errors.MissingRequiredArgument: ctx is a required argument that is missing.\n",
      "Ignoring exception in command nyan\n",
      "Traceback (most recent call last):\n",
      "  File \"/home/haruki0401/.pyenv/versions/anaconda3-5.3.1/lib/python3.6/site-packages/discord/ext/commands/bot.py\", line 846, in process_commands\n",
      "    yield from command.invoke(ctx)\n",
      "  File \"/home/haruki0401/.pyenv/versions/anaconda3-5.3.1/lib/python3.6/site-packages/discord/ext/commands/core.py\", line 367, in invoke\n",
      "    yield from self.prepare(ctx)\n",
      "  File \"/home/haruki0401/.pyenv/versions/anaconda3-5.3.1/lib/python3.6/site-packages/discord/ext/commands/core.py\", line 345, in prepare\n",
      "    yield from self._parse_arguments(ctx)\n",
      "  File \"/home/haruki0401/.pyenv/versions/anaconda3-5.3.1/lib/python3.6/site-packages/discord/ext/commands/core.py\", line 304, in _parse_arguments\n",
      "    transformed = yield from self.transform(ctx, param)\n",
      "  File \"/home/haruki0401/.pyenv/versions/anaconda3-5.3.1/lib/python3.6/site-packages/discord/ext/commands/core.py\", line 212, in transform\n",
      "    raise MissingRequiredArgument('{0.name} is a required argument that is missing.'.format(param))\n",
      "discord.ext.commands.errors.MissingRequiredArgument: ctx is a required argument that is missing.\n",
      "Ignoring exception in command nyan\n",
      "Traceback (most recent call last):\n",
      "  File \"/home/haruki0401/.pyenv/versions/anaconda3-5.3.1/lib/python3.6/site-packages/discord/ext/commands/bot.py\", line 846, in process_commands\n",
      "    yield from command.invoke(ctx)\n",
      "  File \"/home/haruki0401/.pyenv/versions/anaconda3-5.3.1/lib/python3.6/site-packages/discord/ext/commands/core.py\", line 367, in invoke\n",
      "    yield from self.prepare(ctx)\n",
      "  File \"/home/haruki0401/.pyenv/versions/anaconda3-5.3.1/lib/python3.6/site-packages/discord/ext/commands/core.py\", line 345, in prepare\n",
      "    yield from self._parse_arguments(ctx)\n",
      "  File \"/home/haruki0401/.pyenv/versions/anaconda3-5.3.1/lib/python3.6/site-packages/discord/ext/commands/core.py\", line 304, in _parse_arguments\n",
      "    transformed = yield from self.transform(ctx, param)\n",
      "  File \"/home/haruki0401/.pyenv/versions/anaconda3-5.3.1/lib/python3.6/site-packages/discord/ext/commands/core.py\", line 212, in transform\n",
      "    raise MissingRequiredArgument('{0.name} is a required argument that is missing.'.format(param))\n",
      "discord.ext.commands.errors.MissingRequiredArgument: ctx is a required argument that is missing.\n",
      "Ignoring exception in command nyan\n",
      "Traceback (most recent call last):\n",
      "  File \"/home/haruki0401/.pyenv/versions/anaconda3-5.3.1/lib/python3.6/site-packages/discord/ext/commands/bot.py\", line 846, in process_commands\n",
      "    yield from command.invoke(ctx)\n",
      "  File \"/home/haruki0401/.pyenv/versions/anaconda3-5.3.1/lib/python3.6/site-packages/discord/ext/commands/core.py\", line 367, in invoke\n",
      "    yield from self.prepare(ctx)\n",
      "  File \"/home/haruki0401/.pyenv/versions/anaconda3-5.3.1/lib/python3.6/site-packages/discord/ext/commands/core.py\", line 345, in prepare\n",
      "    yield from self._parse_arguments(ctx)\n",
      "  File \"/home/haruki0401/.pyenv/versions/anaconda3-5.3.1/lib/python3.6/site-packages/discord/ext/commands/core.py\", line 304, in _parse_arguments\n",
      "    transformed = yield from self.transform(ctx, param)\n",
      "  File \"/home/haruki0401/.pyenv/versions/anaconda3-5.3.1/lib/python3.6/site-packages/discord/ext/commands/core.py\", line 212, in transform\n",
      "    raise MissingRequiredArgument('{0.name} is a required argument that is missing.'.format(param))\n",
      "discord.ext.commands.errors.MissingRequiredArgument: ctx is a required argument that is missing.\n",
      "Ignoring exception in command nyan\n",
      "Traceback (most recent call last):\n",
      "  File \"/home/haruki0401/.pyenv/versions/anaconda3-5.3.1/lib/python3.6/site-packages/discord/ext/commands/bot.py\", line 846, in process_commands\n",
      "    yield from command.invoke(ctx)\n",
      "  File \"/home/haruki0401/.pyenv/versions/anaconda3-5.3.1/lib/python3.6/site-packages/discord/ext/commands/core.py\", line 367, in invoke\n",
      "    yield from self.prepare(ctx)\n",
      "  File \"/home/haruki0401/.pyenv/versions/anaconda3-5.3.1/lib/python3.6/site-packages/discord/ext/commands/core.py\", line 345, in prepare\n",
      "    yield from self._parse_arguments(ctx)\n",
      "  File \"/home/haruki0401/.pyenv/versions/anaconda3-5.3.1/lib/python3.6/site-packages/discord/ext/commands/core.py\", line 304, in _parse_arguments\n",
      "    transformed = yield from self.transform(ctx, param)\n",
      "  File \"/home/haruki0401/.pyenv/versions/anaconda3-5.3.1/lib/python3.6/site-packages/discord/ext/commands/core.py\", line 212, in transform\n",
      "    raise MissingRequiredArgument('{0.name} is a required argument that is missing.'.format(param))\n",
      "discord.ext.commands.errors.MissingRequiredArgument: ctx is a required argument that is missing.\n"
     ]
    }
   ],
   "source": [
    "# run bot\n",
    "bot.run(TOKEN)"
   ]
  },
  {
   "cell_type": "code",
   "execution_count": 12,
   "metadata": {},
   "outputs": [],
   "source": [
    "# bot.remove_command(nyan)"
   ]
  },
  {
   "cell_type": "code",
   "execution_count": null,
   "metadata": {},
   "outputs": [],
   "source": []
  }
 ],
 "metadata": {
  "kernelspec": {
   "display_name": "Python 3",
   "language": "python",
   "name": "python3"
  },
  "language_info": {
   "codemirror_mode": {
    "name": "ipython",
    "version": 3
   },
   "file_extension": ".py",
   "mimetype": "text/x-python",
   "name": "python",
   "nbconvert_exporter": "python",
   "pygments_lexer": "ipython3",
   "version": "3.6.6"
  }
 },
 "nbformat": 4,
 "nbformat_minor": 2
}
