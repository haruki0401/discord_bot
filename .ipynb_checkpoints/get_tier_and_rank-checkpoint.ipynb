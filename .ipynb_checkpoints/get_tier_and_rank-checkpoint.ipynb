{
 "cells": [
  {
   "cell_type": "markdown",
   "metadata": {},
   "source": [
    "# training of using Riot API"
   ]
  },
  {
   "cell_type": "code",
   "execution_count": 25,
   "metadata": {},
   "outputs": [],
   "source": [
    "import urllib.request\n",
    "import json"
   ]
  },
  {
   "cell_type": "code",
   "execution_count": 33,
   "metadata": {},
   "outputs": [],
   "source": [
    "SUM_NAME =\"2469ll\"\n",
    "SUMMONER_V4 = \"https://jp1.api.riotgames.com/lol/summoner/v4/summoners/by-name/\"\n",
    "API_KEY = \"api_key=RGAPI-d61cf286-5c72-4275-b1a7-84b204917f0e\""
   ]
  },
  {
   "cell_type": "code",
   "execution_count": 35,
   "metadata": {},
   "outputs": [
    {
     "name": "stdout",
     "output_type": "stream",
     "text": [
      "GuBGkA3OfQp6DEvMIsZDTu60Tex9x2FV_PXYgwD6Tcyvgw\n"
     ]
    }
   ],
   "source": [
    "# get summonerID\n",
    "try:\n",
    "    s = urllib.request.urlopen(SUMMONER_V4 + SUM_NAME + '?' + API_KEY)\n",
    "    sum_array = json.loads(s.read().decode('utf-8'))\n",
    "    SUM_ID = sum_array[\"id\"]\n",
    "    print(SUM_ID)\n",
    "except: # need more strict direction later\n",
    "    print(\"The Summoner Name you entered does not exist.\")\n",
    "finally:\n",
    "    s.close()"
   ]
  },
  {
   "cell_type": "code",
   "execution_count": 49,
   "metadata": {
    "scrolled": true
   },
   "outputs": [
    {
     "name": "stdout",
     "output_type": "stream",
     "text": [
      "Solo : GOLD III\n",
      "Flex : GOLD IV\n"
     ]
    }
   ],
   "source": [
    "# get tier and rank of solo and flex queue\n",
    "LEAGUE_V4 = \"https://jp1.api.riotgames.com/lol/league/v4/positions/by-summoner/\"\n",
    "try:\n",
    "    r = urllib.request.urlopen(LEAGUE_V4 + SUM_ID+ '?' + API_KEY)\n",
    "    rank_array = json.loads(r.read().decode('utf-8'))\n",
    "    YOUR_SOLO_TIER = rank_array[1][\"tier\"]\n",
    "    YOUR_SOLO_RANK = rank_array[1][\"rank\"]\n",
    "    YOUR_FLEX_TIER = rank_array[0][\"tier\"]\n",
    "    YOUR_FLEX_RANK = rank_array[0][\"rank\"]\n",
    "    print(\"Solo : \" + YOUR_SOLO_TIER +\" \"+ YOUR_SOLO_RANK)\n",
    "    print(\"Flex : \" + YOUR_FLEX_TIER +\" \"+ YOUR_FLEX_RANK)\n",
    "except:\n",
    "    print(\"Something error!\")\n",
    "finally:\n",
    "    r.close()\n",
    "    "
   ]
  },
  {
   "cell_type": "code",
   "execution_count": null,
   "metadata": {},
   "outputs": [],
   "source": []
  }
 ],
 "metadata": {
  "kernelspec": {
   "display_name": "Python 3",
   "language": "python",
   "name": "python3"
  },
  "language_info": {
   "codemirror_mode": {
    "name": "ipython",
    "version": 3
   },
   "file_extension": ".py",
   "mimetype": "text/x-python",
   "name": "python",
   "nbconvert_exporter": "python",
   "pygments_lexer": "ipython3",
   "version": "3.6.6"
  }
 },
 "nbformat": 4,
 "nbformat_minor": 2
}
